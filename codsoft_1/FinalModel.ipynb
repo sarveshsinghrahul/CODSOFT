{
 "cells": [
  {
   "cell_type": "markdown",
   "id": "e6a3dffa-d218-43ff-818c-b298d8b27704",
   "metadata": {},
   "source": [
    "# ================================\n",
    "# SMS Spam Classification (TF-IDF + NB + LR + SVM)\n",
    "# ================================\n",
    "\n",
    "# 1) Imports"
   ]
  },
  {
   "cell_type": "code",
   "execution_count": 187,
   "id": "5fa19787-2f84-479d-a579-d705578cce16",
   "metadata": {},
   "outputs": [],
   "source": [
    "import pandas as pd\n",
    "import numpy as np\n",
    "import matplotlib.pyplot as plt\n",
    "import seaborn as sns\n",
    "\n",
    "from sklearn.model_selection import train_test_split\n",
    "from sklearn.feature_extraction.text import TfidfVectorizer\n",
    "from sklearn.naive_bayes import MultinomialNB\n",
    "from sklearn.linear_model import LogisticRegression\n",
    "from sklearn.svm import LinearSVC\n",
    "from sklearn.metrics import (\n",
    "    accuracy_score, precision_recall_fscore_support,\n",
    "    classification_report, confusion_matrix, f1_score\n",
    ")"
   ]
  },
  {
   "cell_type": "markdown",
   "id": "ae215c8a-c9a6-4251-9528-11582bd4c008",
   "metadata": {},
   "source": [
    "# 2) Load & basic clean"
   ]
  },
  {
   "cell_type": "code",
   "execution_count": 189,
   "id": "d244a5ab-c6f9-4f63-8d4e-1f1c6e9e5ebe",
   "metadata": {},
   "outputs": [
    {
     "name": "stdout",
     "output_type": "stream",
     "text": [
      "Dataset shape: (5572, 2)\n"
     ]
    },
    {
     "data": {
      "text/html": [
       "<div>\n",
       "<style scoped>\n",
       "    .dataframe tbody tr th:only-of-type {\n",
       "        vertical-align: middle;\n",
       "    }\n",
       "\n",
       "    .dataframe tbody tr th {\n",
       "        vertical-align: top;\n",
       "    }\n",
       "\n",
       "    .dataframe thead th {\n",
       "        text-align: right;\n",
       "    }\n",
       "</style>\n",
       "<table border=\"1\" class=\"dataframe\">\n",
       "  <thead>\n",
       "    <tr style=\"text-align: right;\">\n",
       "      <th></th>\n",
       "      <th>label</th>\n",
       "      <th>message</th>\n",
       "    </tr>\n",
       "  </thead>\n",
       "  <tbody>\n",
       "    <tr>\n",
       "      <th>0</th>\n",
       "      <td>0</td>\n",
       "      <td>Go until jurong point, crazy.. Available only ...</td>\n",
       "    </tr>\n",
       "    <tr>\n",
       "      <th>1</th>\n",
       "      <td>0</td>\n",
       "      <td>Ok lar... Joking wif u oni...</td>\n",
       "    </tr>\n",
       "    <tr>\n",
       "      <th>2</th>\n",
       "      <td>1</td>\n",
       "      <td>Free entry in 2 a wkly comp to win FA Cup fina...</td>\n",
       "    </tr>\n",
       "    <tr>\n",
       "      <th>3</th>\n",
       "      <td>0</td>\n",
       "      <td>U dun say so early hor... U c already then say...</td>\n",
       "    </tr>\n",
       "    <tr>\n",
       "      <th>4</th>\n",
       "      <td>0</td>\n",
       "      <td>Nah I don't think he goes to usf, he lives aro...</td>\n",
       "    </tr>\n",
       "  </tbody>\n",
       "</table>\n",
       "</div>"
      ],
      "text/plain": [
       "   label                                            message\n",
       "0      0  Go until jurong point, crazy.. Available only ...\n",
       "1      0                      Ok lar... Joking wif u oni...\n",
       "2      1  Free entry in 2 a wkly comp to win FA Cup fina...\n",
       "3      0  U dun say so early hor... U c already then say...\n",
       "4      0  Nah I don't think he goes to usf, he lives aro..."
      ]
     },
     "metadata": {},
     "output_type": "display_data"
    }
   ],
   "source": [
    "df = pd.read_csv(\"spam.csv\", encoding=\"latin-1\")[['v1','v2']]\n",
    "df.columns = ['label', 'message']\n",
    "df['label'] = df['label'].map({'ham': 0, 'spam': 1})\n",
    "\n",
    "print(\"Dataset shape:\", df.shape)\n",
    "display(df.head())"
   ]
  },
  {
   "cell_type": "markdown",
   "id": "b51436f9-b1fc-47f4-94aa-6384524526f6",
   "metadata": {},
   "source": [
    "# 3) Train / test split"
   ]
  },
  {
   "cell_type": "code",
   "execution_count": 191,
   "id": "748890a7-a4a4-4fc4-bee7-cb26408c27c6",
   "metadata": {},
   "outputs": [],
   "source": [
    "X_train, X_test, y_train, y_test = train_test_split(\n",
    "    df['message'], df['label'],\n",
    "    test_size=0.20, random_state=42, stratify=df['label']\n",
    ")"
   ]
  },
  {
   "cell_type": "code",
   "execution_count": 192,
   "id": "d6bf784e-7248-4965-98d2-927f554f52b0",
   "metadata": {},
   "outputs": [
    {
     "name": "stdout",
     "output_type": "stream",
     "text": [
      "TF-IDF shape: (4457, 5000)\n"
     ]
    }
   ],
   "source": [
    "# 4) TF-IDF features (unigram + bigram works well for spam)\n",
    "tfidf = TfidfVectorizer(stop_words='english', ngram_range=(1,2), max_features=5000)\n",
    "X_train_tfidf = tfidf.fit_transform(X_train)\n",
    "X_test_tfidf  = tfidf.transform(X_test)\n",
    "\n",
    "print(\"TF-IDF shape:\", X_train_tfidf.shape)\n"
   ]
  },
  {
   "cell_type": "markdown",
   "id": "b6d2f14b-71c2-4e94-af24-970ece574221",
   "metadata": {},
   "source": [
    "# 5) Helper: metric summary for a prediction vector\n"
   ]
  },
  {
   "cell_type": "code",
   "execution_count": 194,
   "id": "7629dc3d-3e78-479c-aeb1-f09c9c1e9a94",
   "metadata": {},
   "outputs": [],
   "source": [
    "def metric_row(y_true, y_pred, model_name):\n",
    "    acc = accuracy_score(y_true, y_pred)\n",
    "    # report spam (class 1) metrics explicitly since that's the tricky class\n",
    "    p, r, f1, _ = precision_recall_fscore_support(y_true, y_pred, average=None, labels=[0,1])\n",
    "    return {\n",
    "        \"model\": model_name,\n",
    "        \"accuracy\": acc,\n",
    "        \"ham_precision\": p[0], \"ham_recall\": r[0], \"ham_f1\": f1 if isinstance(f1, float) else f1,  # unused, kept for clarity\n",
    "        \"spam_precision\": p[1], \"spam_recall\": r[1], \"spam_f1\": precision_recall_fscore_support(y_true, y_pred, average='binary')[2]\n",
    "    }"
   ]
  },
  {
   "cell_type": "markdown",
   "id": "ed3e56a5-0b17-4de1-a1d3-7250b16823a1",
   "metadata": {},
   "source": [
    "# 6) Multinomial Naive Bayes"
   ]
  },
  {
   "cell_type": "code",
   "execution_count": 196,
   "id": "510bbb34-9508-42bb-aac9-eff5538fda4f",
   "metadata": {},
   "outputs": [
    {
     "name": "stdout",
     "output_type": "stream",
     "text": [
      "\n",
      "=== Multinomial Naive Bayes ===\n",
      "Accuracy: 0.9713004484304932\n",
      "              precision    recall  f1-score   support\n",
      "\n",
      "         Ham       0.97      1.00      0.98       966\n",
      "        Spam       0.99      0.79      0.88       149\n",
      "\n",
      "    accuracy                           0.97      1115\n",
      "   macro avg       0.98      0.90      0.93      1115\n",
      "weighted avg       0.97      0.97      0.97      1115\n",
      "\n"
     ]
    }
   ],
   "source": [
    "nb = MultinomialNB()\n",
    "nb.fit(X_train_tfidf, y_train)\n",
    "y_pred_nb = nb.predict(X_test_tfidf)\n",
    "\n",
    "print(\"\\n=== Multinomial Naive Bayes ===\")\n",
    "print(\"Accuracy:\", accuracy_score(y_test, y_pred_nb))\n",
    "print(classification_report(y_test, y_pred_nb, target_names=[\"Ham\",\"Spam\"]))"
   ]
  },
  {
   "cell_type": "markdown",
   "id": "abcd6fe2-9d03-47f0-9261-2aecb6be213c",
   "metadata": {},
   "source": [
    "# 7) Logistic Regression (class-weight balanced) + threshold tuning for best F1"
   ]
  },
  {
   "cell_type": "code",
   "execution_count": 224,
   "id": "fa88bdf4-2819-407f-9c24-7612b11b4248",
   "metadata": {},
   "outputs": [
    {
     "name": "stdout",
     "output_type": "stream",
     "text": [
      "\n",
      "=== Logistic Regression Threshold Tuning ===\n",
      "Threshold=0.10, F1=0.3458\n",
      "Threshold=0.15, F1=0.5034\n",
      "Threshold=0.20, F1=0.6503\n",
      "Threshold=0.25, F1=0.7824\n",
      "Threshold=0.30, F1=0.8452\n",
      "Threshold=0.35, F1=0.9010\n",
      "Threshold=0.40, F1=0.9211\n",
      "Threshold=0.45, F1=0.9396\n",
      "Threshold=0.50, F1=0.9428\n",
      "Threshold=0.55, F1=0.9338\n",
      "Threshold=0.60, F1=0.9296\n",
      "Threshold=0.65, F1=0.9214\n",
      "Threshold=0.70, F1=0.9137\n",
      "Threshold=0.75, F1=0.9097\n",
      "Threshold=0.80, F1=0.8930\n",
      "Threshold=0.85, F1=0.8494\n",
      "\n",
      "✅ Best Threshold = 0.50 with F1 = 0.9428\n",
      "\n",
      "=== Logistic Regression (default threshold=0.5) ===\n",
      "Accuracy: 0.9847533632286996\n",
      "              precision    recall  f1-score   support\n",
      "\n",
      "         Ham       0.99      0.99      0.99       966\n",
      "        Spam       0.95      0.94      0.94       149\n",
      "\n",
      "    accuracy                           0.98      1115\n",
      "   macro avg       0.97      0.97      0.97      1115\n",
      "weighted avg       0.98      0.98      0.98      1115\n",
      "\n",
      "\n",
      "=== Logistic Regression (best threshold=0.50) ===\n",
      "Accuracy: 0.9847533632286996\n",
      "              precision    recall  f1-score   support\n",
      "\n",
      "         Ham       0.99      0.99      0.99       966\n",
      "        Spam       0.95      0.94      0.94       149\n",
      "\n",
      "    accuracy                           0.98      1115\n",
      "   macro avg       0.97      0.97      0.97      1115\n",
      "weighted avg       0.98      0.98      0.98      1115\n",
      "\n"
     ]
    }
   ],
   "source": [
    "lr = LogisticRegression(max_iter=1000, class_weight='balanced', solver='liblinear')\n",
    "lr.fit(X_train_tfidf, y_train)\n",
    "\n",
    "y_pred_lr_default = lr.predict(X_test_tfidf)\n",
    "y_proba_lr = lr.predict_proba(X_test_tfidf)[:, 1]\n",
    "\n",
    "# Search thresholds from 0.1 to 0.9 in steps of 0.05\n",
    "thresholds = np.arange(0.1, 0.9, 0.05)\n",
    "best_thresh, best_f1 = 0.5, 0.0\n",
    "\n",
    "print(\"\\n=== Logistic Regression Threshold Tuning ===\")\n",
    "for t in thresholds:\n",
    "    y_pred_t = (y_proba_lr >= t).astype(int)\n",
    "    f1 = f1_score(y_test, y_pred_t)\n",
    "    print(f\"Threshold={t:.2f}, F1={f1:.4f}\")\n",
    "    if f1 > best_f1:\n",
    "        best_f1, best_thresh = f1, t\n",
    "\n",
    "print(f\"\\n✅ Best Threshold = {best_thresh:.2f} with F1 = {best_f1:.4f}\")\n",
    "\n",
    "# Predictions with best threshold\n",
    "y_pred_lr_best = (y_proba_lr >= best_thresh).astype(int)\n",
    "\n",
    "print(\"\\n=== Logistic Regression (default threshold=0.5) ===\")\n",
    "print(\"Accuracy:\", accuracy_score(y_test, y_pred_lr_default))\n",
    "print(classification_report(y_test, y_pred_lr_default, target_names=[\"Ham\",\"Spam\"]))\n",
    "\n",
    "print(f\"\\n=== Logistic Regression (best threshold={best_thresh:.2f}) ===\")\n",
    "print(\"Accuracy:\", accuracy_score(y_test, y_pred_lr_best))\n",
    "print(classification_report(y_test, y_pred_lr_best, target_names=[\"Ham\",\"Spam\"]))"
   ]
  },
  {
   "cell_type": "markdown",
   "id": "6f05b13b-990f-4ad0-82c5-5513f6b9b4c7",
   "metadata": {},
   "source": [
    "# 8) Linear SVM (LinearSVC)\n",
    "# Note: LinearSVC doesn't provide predict_proba, but it's very strong for text.\n",
    "# Set dual=True when n_features > n_samples (common with TF-IDF + bigrams)."
   ]
  },
  {
   "cell_type": "code",
   "execution_count": 201,
   "id": "e187a001-0954-4cc3-af60-ab567c9f3f80",
   "metadata": {},
   "outputs": [],
   "source": [
    "svm = LinearSVC(dual=True)\n",
    "svm.fit(X_train_tfidf, y_train)\n",
    "y_pred_svm = svm.predict(X_test_tfidf)"
   ]
  },
  {
   "cell_type": "code",
   "execution_count": 202,
   "id": "e1e191a6-3a9e-418d-af1b-52cb84c987f8",
   "metadata": {},
   "outputs": [
    {
     "name": "stdout",
     "output_type": "stream",
     "text": [
      "\n",
      "=== Linear SVM (LinearSVC) ===\n",
      "Accuracy: 0.9838565022421525\n",
      "              precision    recall  f1-score   support\n",
      "\n",
      "         Ham       0.98      1.00      0.99       966\n",
      "        Spam       0.99      0.89      0.94       149\n",
      "\n",
      "    accuracy                           0.98      1115\n",
      "   macro avg       0.98      0.95      0.96      1115\n",
      "weighted avg       0.98      0.98      0.98      1115\n",
      "\n"
     ]
    }
   ],
   "source": [
    "print(\"\\n=== Linear SVM (LinearSVC) ===\")\n",
    "print(\"Accuracy:\", accuracy_score(y_test, y_pred_svm))\n",
    "print(classification_report(y_test, y_pred_svm, target_names=[\"Ham\",\"Spam\"]))"
   ]
  },
  {
   "cell_type": "markdown",
   "id": "4034bec7-ee08-41f9-8855-a1e154728127",
   "metadata": {},
   "source": [
    "# 9) Compare models in a small table"
   ]
  },
  {
   "cell_type": "code",
   "execution_count": 204,
   "id": "d63d5dfd-a7df-4ef7-8bfe-c43b84ef2468",
   "metadata": {},
   "outputs": [
    {
     "data": {
      "text/html": [
       "<div>\n",
       "<style scoped>\n",
       "    .dataframe tbody tr th:only-of-type {\n",
       "        vertical-align: middle;\n",
       "    }\n",
       "\n",
       "    .dataframe tbody tr th {\n",
       "        vertical-align: top;\n",
       "    }\n",
       "\n",
       "    .dataframe thead th {\n",
       "        text-align: right;\n",
       "    }\n",
       "</style>\n",
       "<table border=\"1\" class=\"dataframe\">\n",
       "  <thead>\n",
       "    <tr style=\"text-align: right;\">\n",
       "      <th></th>\n",
       "      <th>model</th>\n",
       "      <th>accuracy</th>\n",
       "      <th>spam_precision</th>\n",
       "      <th>spam_recall</th>\n",
       "      <th>spam_f1</th>\n",
       "    </tr>\n",
       "  </thead>\n",
       "  <tbody>\n",
       "    <tr>\n",
       "      <th>0</th>\n",
       "      <td>LogReg (th=0.50)</td>\n",
       "      <td>0.984753</td>\n",
       "      <td>0.945946</td>\n",
       "      <td>0.939597</td>\n",
       "      <td>0.942761</td>\n",
       "    </tr>\n",
       "    <tr>\n",
       "      <th>1</th>\n",
       "      <td>LogReg (th=0.50)</td>\n",
       "      <td>0.984753</td>\n",
       "      <td>0.945946</td>\n",
       "      <td>0.939597</td>\n",
       "      <td>0.942761</td>\n",
       "    </tr>\n",
       "    <tr>\n",
       "      <th>2</th>\n",
       "      <td>LinearSVC</td>\n",
       "      <td>0.983857</td>\n",
       "      <td>0.985185</td>\n",
       "      <td>0.892617</td>\n",
       "      <td>0.936620</td>\n",
       "    </tr>\n",
       "    <tr>\n",
       "      <th>3</th>\n",
       "      <td>Naive Bayes</td>\n",
       "      <td>0.971300</td>\n",
       "      <td>0.991597</td>\n",
       "      <td>0.791946</td>\n",
       "      <td>0.880597</td>\n",
       "    </tr>\n",
       "  </tbody>\n",
       "</table>\n",
       "</div>"
      ],
      "text/plain": [
       "              model  accuracy  spam_precision  spam_recall   spam_f1\n",
       "0  LogReg (th=0.50)  0.984753        0.945946     0.939597  0.942761\n",
       "1  LogReg (th=0.50)  0.984753        0.945946     0.939597  0.942761\n",
       "2         LinearSVC  0.983857        0.985185     0.892617  0.936620\n",
       "3       Naive Bayes  0.971300        0.991597     0.791946  0.880597"
      ]
     },
     "metadata": {},
     "output_type": "display_data"
    }
   ],
   "source": [
    "rows = []\n",
    "rows.append(metric_row(y_test, y_pred_nb,         \"Naive Bayes\"))\n",
    "rows.append(metric_row(y_test, y_pred_lr_default, \"LogReg (th=0.50)\"))\n",
    "rows.append(metric_row(y_test, y_pred_lr_best,    f\"LogReg (th={best_t:.2f})\"))\n",
    "rows.append(metric_row(y_test, y_pred_svm,        \"LinearSVC\"))\n",
    "\n",
    "summary = pd.DataFrame(rows)[[\"model\",\"accuracy\",\"spam_precision\",\"spam_recall\",\"spam_f1\"]]\n",
    "display(summary.sort_values(by=\"spam_f1\", ascending=False).reset_index(drop=True))"
   ]
  },
  {
   "cell_type": "markdown",
   "id": "4f7faf15-5e91-4c47-b2f9-16a0fc38c460",
   "metadata": {},
   "source": [
    "# 10) Confusion matrix heatmap for the best performer (by spam F1)"
   ]
  },
  {
   "cell_type": "code",
   "execution_count": 206,
   "id": "84c5cbb1-f401-4906-acdf-5e7a23e99b69",
   "metadata": {},
   "outputs": [],
   "source": [
    "best_idx = summary['spam_f1'].idxmax()\n",
    "best_name = summary.loc[best_idx, 'model']\n",
    "\n",
    "if \"Naive Bayes\" in best_name:\n",
    "    cm = confusion_matrix(y_test, y_pred_nb)\n",
    "elif \"LinearSVC\" in best_name:\n",
    "    cm = confusion_matrix(y_test, y_pred_svm)\n",
    "elif \"th=\" in best_name:\n",
    "    cm = confusion_matrix(y_test, y_pred_lr_best)\n",
    "else:\n",
    "    cm = confusion_matrix(y_test, y_pred_lr_default)"
   ]
  },
  {
   "cell_type": "code",
   "execution_count": 207,
   "id": "91088e52-e7ba-4269-9488-7ddb6af777cb",
   "metadata": {},
   "outputs": [
    {
     "data": {
      "image/png": "[encoded data removed]",
      "text/plain": [
       "<Figure size 600x400 with 2 Axes>"
      ]
     },
     "metadata": {},
     "output_type": "display_data"
    }
   ],
   "source": [
    "plt.figure(figsize=(6,4))\n",
    "sns.heatmap(cm, annot=True, fmt=\"d\", cmap=\"Blues\",\n",
    "            xticklabels=[\"Ham\",\"Spam\"], yticklabels=[\"Ham\",\"Spam\"])\n",
    "plt.xlabel(\"Predicted\")\n",
    "plt.ylabel(\"Actual\")\n",
    "plt.title(f\"Confusion Matrix — {best_name}\")\n",
    "plt.tight_layout()\n",
    "plt.show()"
   ]
  },
  {
   "cell_type": "code",
   "execution_count": null,
   "id": "899ef7d2-a9a9-4463-ad39-386257a8d6b3",
   "metadata": {},
   "outputs": [],
   "source": []
  }
 ],
 "metadata": {
  "kernelspec": {
   "display_name": "Python 3 (ipykernel)",
   "language": "python",
   "name": "python3"
  },
  "language_info": {
   "codemirror_mode": {
    "name": "ipython",
    "version": 3
   },
   "file_extension": ".py",
   "mimetype": "text/x-python",
   "name": "python",
   "nbconvert_exporter": "python",
   "pygments_lexer": "ipython3",
   "version": "3.12.4"
  }
 },
 "nbformat": 4,
 "nbformat_minor": 5
}
