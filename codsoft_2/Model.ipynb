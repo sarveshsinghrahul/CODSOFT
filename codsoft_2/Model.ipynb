{
 "cells": [
  {
   "cell_type": "markdown",
   "id": "0e2f05af-854d-4eab-8ea5-51404301feef",
   "metadata": {},
   "source": [
    "## ==============================================\n",
    "## Movie Genre Classification Using TF-IDF + SVM\n",
    "## ==============================================\n",
    "\n",
    "## -----------------------\n",
    "## 1. Import Libraries\n",
    "## -----------------------"
   ]
  },
  {
   "cell_type": "code",
   "execution_count": 2,
   "id": "a4feb697-e124-4d9e-b9b0-7a7acb64ef8f",
   "metadata": {},
   "outputs": [],
   "source": [
    "import pandas as pd\n",
    "from sklearn.feature_extraction.text import TfidfVectorizer\n",
    "from sklearn.svm import LinearSVC\n",
    "from sklearn.utils.class_weight import compute_class_weight\n",
    "from sklearn.metrics import accuracy_score, classification_report\n",
    "from sklearn.utils import resample\n",
    "import numpy as np\n"
   ]
  },
  {
   "cell_type": "markdown",
   "id": "0dfc0030-c3e2-4d22-9ec5-9467806ecc4f",
   "metadata": {},
   "source": [
    "## -----------------------\n",
    "## 2. Load Dataset\n",
    "## -----------------------\n",
    "## Training data has: ID, TITLE, GENRE, DESCRIPTION"
   ]
  },
  {
   "cell_type": "code",
   "execution_count": 4,
   "id": "45a8eb93-2a90-4858-9466-f9b7c3d18cf0",
   "metadata": {},
   "outputs": [],
   "source": [
    "train_df = pd.read_csv(\"train_data.txt\", sep=\" ::: \", engine='python', \n",
    "                       names=[\"ID\",\"TITLE\",\"GENRE\",\"DESCRIPTION\"])\n",
    "\n",
    "# Test data has: ID, TITLE, DESCRIPTION\n",
    "test_df = pd.read_csv(\"test_data.txt\", sep=\" ::: \", engine='python', \n",
    "                      names=[\"ID\",\"TITLE\",\"DESCRIPTION\"])"
   ]
  },
  {
   "cell_type": "markdown",
   "id": "5f3cf9b7-3ce3-421c-9fac-b5225e88d3c0",
   "metadata": {},
   "source": [
    "## -----------------------\n",
    "## 3. Handle Imbalanced Classes (Optional but recommended)\n",
    "## -----------------------\n",
    "## Find the maximum class size"
   ]
  },
  {
   "cell_type": "code",
   "execution_count": 6,
   "id": "fc23182d-ebdf-4794-ae89-5213c49e70ce",
   "metadata": {},
   "outputs": [],
   "source": [
    "max_size = train_df['GENRE'].value_counts().max()\n",
    "\n",
    "oversampled_list = []\n",
    "for genre, group in train_df.groupby('GENRE'):\n",
    "    if len(group) < max_size:\n",
    "        group_upsampled = resample(group,\n",
    "                                   replace=True,\n",
    "                                   n_samples=max_size,\n",
    "                                   random_state=42)\n",
    "        oversampled_list.append(group_upsampled)\n",
    "    else:\n",
    "        oversampled_list.append(group)\n",
    "\n",
    "train_df_balanced = pd.concat(oversampled_list).sample(frac=1, random_state=42).reset_index(drop=True)"
   ]
  },
  {
   "cell_type": "markdown",
   "id": "0722f6b6-9315-469a-84ed-b3a5092597bf",
   "metadata": {},
   "source": [
    "## -----------------------\n",
    "## 4. Combine Text Features\n",
    "## -----------------------\n",
    "## Combine TITLE + DESCRIPTION for richer textual information"
   ]
  },
  {
   "cell_type": "code",
   "execution_count": 8,
   "id": "d201f057-06ba-44de-b9a2-7bdc4cd0b0c9",
   "metadata": {},
   "outputs": [],
   "source": [
    "train_texts = (train_df_balanced[\"TITLE\"] + \" \" + train_df_balanced[\"DESCRIPTION\"]).values\n",
    "y_train = train_df_balanced[\"GENRE\"]\n",
    "test_texts = (test_df[\"TITLE\"] + \" \" + test_df[\"DESCRIPTION\"]).values"
   ]
  },
  {
   "cell_type": "markdown",
   "id": "aa043d99-6958-42e5-9c29-d9892d422c9c",
   "metadata": {},
   "source": [
    "## -----------------------\n",
    "## 5. Vectorization: TF-IDF\n",
    "## -----------------------\n",
    "## Convert text into numerical features"
   ]
  },
  {
   "cell_type": "code",
   "execution_count": 10,
   "id": "11196296-2f87-45a7-a91b-3dbaaf1e9e90",
   "metadata": {},
   "outputs": [],
   "source": [
    "vectorizer = TfidfVectorizer(stop_words=\"english\", max_features=30000, ngram_range=(1,3))\n",
    "X_train = vectorizer.fit_transform(train_texts)\n",
    "X_test = vectorizer.transform(test_texts)\n"
   ]
  },
  {
   "cell_type": "markdown",
   "id": "345b0843-2b2c-4db7-acbb-f7410a13c3f0",
   "metadata": {},
   "source": [
    "## -----------------------\n",
    "## 6. Compute Class Weights\n",
    "## -----------------------\n",
    "## Ensures rare genres are given more importance during training"
   ]
  },
  {
   "cell_type": "code",
   "execution_count": 12,
   "id": "3d2d71a3-a1f6-4c2c-8f66-bb24b1003bbc",
   "metadata": {},
   "outputs": [],
   "source": [
    "classes = np.unique(y_train)\n",
    "class_weights = compute_class_weight(class_weight=\"balanced\", classes=classes, y=y_train)\n",
    "class_weight_dict = dict(zip(classes, class_weights))"
   ]
  },
  {
   "cell_type": "markdown",
   "id": "7a93d0c1-b1b2-4b4b-9cb0-87fed2a9d937",
   "metadata": {},
   "source": [
    "## -----------------------\n",
    "## 7. Train Linear SVM Classifier\n",
    "## -----------------------"
   ]
  },
  {
   "cell_type": "code",
   "execution_count": null,
   "id": "7856d79f-152b-4fbb-b9a8-9de213cc06b7",
   "metadata": {},
   "outputs": [
    {
     "name": "stderr",
     "output_type": "stream",
     "text": [
      "C:\\Users\\sarve\\anaconda3\\Lib\\site-packages\\sklearn\\svm\\_classes.py:31: FutureWarning: The default value of `dual` will change from `True` to `'auto'` in 1.5. Set the value of `dual` explicitly to suppress the warning.\n",
      "  warnings.warn(\n"
     ]
    }
   ],
   "source": [
    "svm = LinearSVC(class_weight=class_weight_dict, max_iter=5000)\n",
    "svm.fit(X_train, y_train)"
   ]
  },
  {
   "cell_type": "markdown",
   "id": "cc742a2f-561d-4f27-a93a-a91d5e680a29",
   "metadata": {},
   "source": [
    "## -----------------------\n",
    "## 8. Predict on Test Data\n",
    "## -----------------------"
   ]
  },
  {
   "cell_type": "code",
   "execution_count": null,
   "id": "fad0f707-d6c3-4ec1-8b76-e39d29bca78e",
   "metadata": {},
   "outputs": [],
   "source": [
    "preds = svm.predict(X_test)\n"
   ]
  },
  {
   "cell_type": "markdown",
   "id": "3f33d360-e4a7-4056-8b58-5f55f59f2ce9",
   "metadata": {},
   "source": [
    "# -----------------------\n",
    "# 9. Save Predictions\n",
    "# -----------------------"
   ]
  },
  {
   "cell_type": "code",
   "execution_count": null,
   "id": "962635e3-b64f-4ff8-9706-631f9d26e015",
   "metadata": {},
   "outputs": [],
   "source": [
    "output_file = \"predictions.txt\"\n",
    "with open(output_file, \"w\", encoding=\"utf-8\") as f:\n",
    "    for idx, row in test_df.iterrows():\n",
    "        f.write(f\"{row['ID']} ::: {row['TITLE']} ::: {preds[idx]}\\n\")\n",
    "\n",
    "print(f\"Predictions saved to {output_file}\")"
   ]
  },
  {
   "cell_type": "code",
   "execution_count": null,
   "id": "61c90edd-a00e-477e-a37d-fc5488c85d44",
   "metadata": {},
   "outputs": [],
   "source": [
    "# -----------------------\n",
    "# 10. Evaluate Model (if ground truth available)\n",
    "# -----------------------\n",
    "test_solution = pd.read_csv(\"test_data_solution.txt\", sep=\" ::: \", engine='python', \n",
    "                            names=[\"ID\",\"TITLE\",\"GENRE\",\"DESCRIPTION\"])\n",
    "y_true = test_solution[\"GENRE\"]\n",
    "print(\"Accuracy:\", accuracy_score(y_true, preds))\n",
    "print(classification_report(y_true, preds))"
   ]
  },
  {
   "cell_type": "code",
   "execution_count": null,
   "id": "e121f692-3b0c-4b46-a3dd-5e7830fccf9f",
   "metadata": {},
   "outputs": [],
   "source": []
  }
 ],
 "metadata": {
  "kernelspec": {
   "display_name": "Python 3 (ipykernel)",
   "language": "python",
   "name": "python3"
  },
  "language_info": {
   "codemirror_mode": {
    "name": "ipython",
    "version": 3
   },
   "file_extension": ".py",
   "mimetype": "text/x-python",
   "name": "python",
   "nbconvert_exporter": "python",
   "pygments_lexer": "ipython3",
   "version": "3.12.4"
  }
 },
 "nbformat": 4,
 "nbformat_minor": 5
}
