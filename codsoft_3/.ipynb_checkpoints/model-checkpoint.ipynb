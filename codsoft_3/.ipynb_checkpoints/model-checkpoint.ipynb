{
 "cells": [
  {
   "cell_type": "code",
   "execution_count": 26,
   "id": "f84844be-4186-4c57-a49d-eaee35d672cf",
   "metadata": {},
   "outputs": [],
   "source": [
    "# Memory-Efficient Fraud Detection Pipeline\n",
    "import pandas as pd\n",
    "from sklearn.model_selection import train_test_split\n",
    "from sklearn.preprocessing import OrdinalEncoder\n",
    "from sklearn.linear_model import LogisticRegression\n",
    "from sklearn.tree import DecisionTreeClassifier\n",
    "from sklearn.ensemble import RandomForestClassifier\n",
    "from sklearn.metrics import classification_report, roc_auc_score"
   ]
  },
  {
   "cell_type": "code",
   "execution_count": 28,
   "id": "32b39d8a-34e6-43be-8807-29692c53aca8",
   "metadata": {},
   "outputs": [],
   "source": [
    "# -----------------------------\n",
    "# 1. Load Data\n",
    "# -----------------------------\n",
    "train_data = pd.read_csv(\"fraudTrain.csv\")\n",
    "test_data = pd.read_csv(\"fraudTest.csv\")"
   ]
  },
  {
   "cell_type": "code",
   "execution_count": 29,
   "id": "3aca80fa-847f-40bc-9475-205a2dabc7f5",
   "metadata": {},
   "outputs": [],
   "source": [
    "# -----------------------------\n",
    "# 2. Drop Unnecessary Columns\n",
    "# -----------------------------\n",
    "drop_cols = ['Unnamed: 0', 'cc_num', 'trans_num', 'first', 'last', 'street', 'dob']\n",
    "X_train = train_data.drop(columns=drop_cols + ['is_fraud'])\n",
    "y_train = train_data['is_fraud']\n",
    "\n",
    "X_test = test_data.drop(columns=drop_cols + ['is_fraud'])\n",
    "y_test = test_data['is_fraud']"
   ]
  },
  {
   "cell_type": "code",
   "execution_count": 32,
   "id": "6aa83055-f5a3-4feb-ac64-fe6c85b1e09a",
   "metadata": {},
   "outputs": [],
   "source": [
    "# -----------------------------\n",
    "# 3. Feature Engineering: datetime\n",
    "# -----------------------------\n",
    "for df in [X_train, X_test]:\n",
    "    df['trans_date_trans_time'] = pd.to_datetime(df['trans_date_trans_time'])\n",
    "    df['hour'] = df['trans_date_trans_time'].dt.hour\n",
    "    df['day'] = df['trans_date_trans_time'].dt.day\n",
    "    df['weekday'] = df['trans_date_trans_time'].dt.weekday\n",
    "    df.drop(columns=['trans_date_trans_time'], inplace=True)"
   ]
  },
  {
   "cell_type": "code",
   "execution_count": 34,
   "id": "67d32117-361e-4a6a-a0af-fa967a152766",
   "metadata": {},
   "outputs": [],
   "source": [
    "# -----------------------------\n",
    "# 4. Encode Categorical Variables\n",
    "# -----------------------------\n",
    "high_card_cols = ['merchant', 'city', 'job']       # many unique values\n",
    "low_card_cols = ['category', 'gender', 'state']   # few unique values\n",
    "\n",
    "# Label encode high-cardinality columns\n",
    "encoder = OrdinalEncoder(handle_unknown='use_encoded_value', unknown_value=-1)\n",
    "X_train[high_card_cols] = encoder.fit_transform(X_train[high_card_cols])\n",
    "X_test[high_card_cols] = encoder.transform(X_test[high_card_cols])\n",
    "\n",
    "# One-hot encode low-cardinality columns\n",
    "X_train = pd.get_dummies(X_train, columns=low_card_cols)\n",
    "X_test = pd.get_dummies(X_test, columns=low_card_cols)\n",
    "X_test = X_test.reindex(columns=X_train.columns, fill_value=0)"
   ]
  },
  {
   "cell_type": "code",
   "execution_count": 36,
   "id": "ff6f4623-c131-4643-865d-2ce4d3ce1d04",
   "metadata": {},
   "outputs": [
    {
     "name": "stdout",
     "output_type": "stream",
     "text": [
      "\n",
      "Training Logistic Regression...\n",
      "\n",
      "Training Decision Tree...\n",
      "\n",
      "Training Random Forest...\n"
     ]
    }
   ],
   "source": [
    "# -----------------------------\n",
    "# 5. Train Models\n",
    "# -----------------------------\n",
    "models = {\n",
    "    'Logistic Regression': LogisticRegression(max_iter=1000, class_weight='balanced'),\n",
    "    'Decision Tree': DecisionTreeClassifier(max_depth=10, class_weight='balanced', random_state=42),\n",
    "    'Random Forest': RandomForestClassifier(n_estimators=100, class_weight='balanced', random_state=42)\n",
    "}\n",
    "\n",
    "results = {}\n",
    "\n",
    "for name, model in models.items():\n",
    "    print(f\"\\nTraining {name}...\")\n",
    "    model.fit(X_train, y_train)\n",
    "    y_pred = model.predict(X_test)\n",
    "    y_prob = model.predict_proba(X_test)[:,1]\n",
    "    \n",
    "    report = classification_report(y_test, y_pred, output_dict=True)\n",
    "    auc = roc_auc_score(y_test, y_prob)\n",
    "    \n",
    "    results[name] = {\n",
    "        'Precision': report['1']['precision'],\n",
    "        'Recall': report['1']['recall'],\n",
    "        'F1-score': report['1']['f1-score'],\n",
    "        'ROC AUC': auc\n",
    "    }\n"
   ]
  },
  {
   "cell_type": "code",
   "execution_count": 38,
   "id": "8ab58233-0d4f-4a85-8f04-2e3c0ba6492d",
   "metadata": {},
   "outputs": [
    {
     "name": "stdout",
     "output_type": "stream",
     "text": [
      "\n",
      "Model Comparison (Fraud Class Metrics):\n",
      "\n",
      "                     Precision    Recall  F1-score   ROC AUC\n",
      "Logistic Regression   0.062834  0.751981  0.115976  0.830892\n",
      "Decision Tree         0.087368  0.950583  0.160028  0.970540\n",
      "Random Forest         0.982199  0.437296  0.605161  0.970332\n"
     ]
    }
   ],
   "source": [
    "# -----------------------------\n",
    "# 6. Display Results\n",
    "# -----------------------------\n",
    "results_df = pd.DataFrame(results).T\n",
    "print(\"\\nModel Comparison (Fraud Class Metrics):\\n\")\n",
    "print(results_df)"
   ]
  },
  {
   "cell_type": "code",
   "execution_count": null,
   "id": "f2c71607-8ccc-4816-97ad-5e513ef2ef59",
   "metadata": {},
   "outputs": [],
   "source": []
  }
 ],
 "metadata": {
  "kernelspec": {
   "display_name": "Python 3 (ipykernel)",
   "language": "python",
   "name": "python3"
  },
  "language_info": {
   "codemirror_mode": {
    "name": "ipython",
    "version": 3
   },
   "file_extension": ".py",
   "mimetype": "text/x-python",
   "name": "python",
   "nbconvert_exporter": "python",
   "pygments_lexer": "ipython3",
   "version": "3.12.4"
  }
 },
 "nbformat": 4,
 "nbformat_minor": 5
}
